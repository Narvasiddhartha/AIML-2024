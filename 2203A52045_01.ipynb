{
  "nbformat": 4,
  "nbformat_minor": 0,
  "metadata": {
    "colab": {
      "provenance": []
    },
    "kernelspec": {
      "name": "python3",
      "display_name": "Python 3"
    },
    "language_info": {
      "name": "python"
    }
  },
  "cells": [
    {
      "cell_type": "markdown",
      "source": [
        "# **Part 1 - Implement Basic Data Structures using Numpy, Pandas.**"
      ],
      "metadata": {
        "id": "K-bDYkh-8iiM"
      }
    },
    {
      "cell_type": "code",
      "execution_count": 1,
      "metadata": {
        "colab": {
          "base_uri": "https://localhost:8080/"
        },
        "id": "7xdDplrh7tDF",
        "outputId": "c8490011-fe0d-4efd-8a7a-7439b576b3d8"
      },
      "outputs": [
        {
          "output_type": "stream",
          "name": "stdout",
          "text": [
            "Type of list1: <class 'list'>\n",
            "Type of array1: <class 'numpy.ndarray'>\n",
            "Multiplication: [ 6 14 24 36  0]\n",
            "Division: [6.         3.5        2.66666667 2.25       0.        ]\n",
            "Power of: [     1    128   6561 262144      1]\n",
            "Addition of Two: [1 2 3 4 5] + [6 7 8 9 0]\n",
            "Sin values: [ 0.84147098  0.90929743  0.14112001 -0.7568025  -0.95892427]\n",
            "Log values: [0.         0.69314718 1.09861229 1.38629436 1.60943791]\n",
            "Log2 values: [0.         1.         1.5849625  2.         2.32192809]\n",
            "Exponential values: [  2.71828183   7.3890561   20.08553692  54.59815003 148.4131591 ]\n"
          ]
        }
      ],
      "source": [
        "#2203A52045\n",
        "\n",
        "\n",
        "import numpy as np\n",
        "import pandas as pd\n",
        "\n",
        "#1. Lists\n",
        "list1 = [1, 2, 3, 4, 5]\n",
        "list2 = [6, 7, 8, 9, 0]\n",
        "\n",
        "#2. Arrays\n",
        "array1 = np.array(list1)\n",
        "array2 = np.array(list2)\n",
        "\n",
        "#3. Identify their type using type()\n",
        "print(\"Type of list1:\", type(list1))\n",
        "print(\"Type of array1:\", type(array1))\n",
        "\n",
        "\n",
        "#4. Perform mathematical operations on these datasets created - multiplication, division, poweroff\n",
        "result_multiply = array1 * array2\n",
        "print(\"Multiplication:\", result_multiply)\n",
        "\n",
        "\n",
        "result_divide = array2 / array1\n",
        "print(\"Division:\", result_divide)\n",
        "\n",
        "\n",
        "result_power = np.power(array1, array2)\n",
        "print(\"Power of:\", result_power)\n",
        "\n",
        "#5. Combine text with Numpy fuction to generate a textual output - ”Addition of Two: array1 +array 2\n",
        "text_output = f\"Addition of Two: {array1} + {array2}\"\n",
        "print(text_output)\n",
        "\n",
        "#6. Implement np.sin(), log(), log2(), np.exp())\n",
        "sin_values = np.sin(array1)\n",
        "log_values = np.log(array1)\n",
        "log2_values = np.log2(array1)\n",
        "exp_values = np.exp(array1)\n",
        "\n",
        "print(\"Sin values:\", sin_values)\n",
        "print(\"Log values:\", log_values)\n",
        "print(\"Log2 values:\", log2_values)\n",
        "print(\"Exponential values:\", exp_values)"
      ]
    }
  ]
}