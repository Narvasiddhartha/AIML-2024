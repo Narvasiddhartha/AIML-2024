{
  "nbformat": 4,
  "nbformat_minor": 0,
  "metadata": {
    "colab": {
      "provenance": []
    },
    "kernelspec": {
      "name": "python3",
      "display_name": "Python 3"
    },
    "language_info": {
      "name": "python"
    }
  },
  "cells": [
    {
      "cell_type": "code",
      "execution_count": 2,
      "metadata": {
        "colab": {
          "base_uri": "https://localhost:8080/"
        },
        "id": "3mHTrbOTAUgB",
        "outputId": "b115557a-ecf2-4b48-e2e0-6e0a4bf7922a"
      },
      "outputs": [
        {
          "output_type": "stream",
          "name": "stdout",
          "text": [
            "          Table 1 Unnamed: 1  Unnamed: 2 Unnamed: 3\n",
            "0           Name        Age        Ht no      Place\n",
            "1       RajaRohan         19  2203A52126  Huzurabad\n",
            "2  Vamshi krishna         19  2203A52127     Ambala\n",
            "3         Avinash         19  2203A52227   Indurthi\n",
            "4    Gopi krishna         21  2203A52076     Parkal\n",
            "5          Sravan         19  2203A52099   Warangal\n",
            "            Name   Age        Ht no      Place  Unnamed: 4  Unnamed: 5\n",
            "0       RajaRohan    19  2203A52126  Huzurabad         NaN         NaN\n",
            "1  Vamshi krishna    19  2203A52127     Ambala         NaN         NaN\n",
            "2         Avinash    19  2203A52227   Indurthi         NaN         NaN\n",
            "3    Gopi krishna    21  2203A52076     Parkal         NaN         NaN\n",
            "4          Sravan    19  2203A52099   Warangal         NaN         NaN\n",
            "            Name   Age        Ht no      Place  Unnamed: 4  Unnamed: 5\n",
            "0       RajaRohan    19  2203A52126  Huzurabad         NaN         NaN\n",
            "1  Vamshi krishna    19  2203A52127     Ambala         NaN         NaN\n",
            "2         Avinash    19  2203A52227   Indurthi         NaN         NaN\n",
            "3    Gopi krishna    21  2203A52076     Parkal         NaN         NaN\n",
            "4          Sravan    19  2203A52099   Warangal         NaN         NaN\n",
            "\n",
            "Data from URL:\n",
            "            Name   Age        Ht no      Place  Unnamed: 4  Unnamed: 5\n",
            "0       RajaRohan    19  2203A52126  Huzurabad         NaN         NaN\n",
            "1  Vamshi krishna    19  2203A52127     Ambala         NaN         NaN\n",
            "2         Avinash    19  2203A52227   Indurthi         NaN         NaN\n",
            "3    Gopi krishna    21  2203A52076     Parkal         NaN         NaN\n",
            "4          Sravan    19  2203A52099   Warangal         NaN         NaN\n"
          ]
        }
      ],
      "source": [
        "import pandas as pd\n",
        "\n",
        "# Read Excel file\n",
        "data_excel = pd.read_excel('/content/haha3.xlsx')\n",
        "\n",
        "# Read CSV file\n",
        "data_csv = pd.read_csv('/content/haha.csv')\n",
        "\n",
        "# Read TSV file (Tab-separated values)\n",
        "data_tsv = pd.read_csv('/content/haha2.tsv', sep='\\t')\n",
        "\n",
        "print(data_excel)\n",
        "print(data_csv)\n",
        "print(data_tsv)\n",
        "\n",
        "# Read data from URL\n",
        "url = 'https://raw.githubusercontent.com/Siddhu/Aiml/main/haha.csv'\n",
        "df_url = pd.read_csv(url)\n",
        "print(\"\\nData from URL:\")\n",
        "print(df_url)"
      ]
    },
    {
      "cell_type": "code",
      "source": [],
      "metadata": {
        "id": "1GHvQCK9AuB5"
      },
      "execution_count": null,
      "outputs": []
    }
  ]
}